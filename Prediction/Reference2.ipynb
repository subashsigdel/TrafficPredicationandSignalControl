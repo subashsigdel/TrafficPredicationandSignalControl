{
  "nbformat": 4,
  "nbformat_minor": 0,
  "metadata": {
    "colab": {
      "provenance": []
    },
    "kernelspec": {
      "name": "python3",
      "display_name": "Python 3"
    },
    "language_info": {
      "name": "python"
    },
    "accelerator": "GPU",
    "gpuClass": "standard"
  },
  "cells": [
    {
      "cell_type": "markdown",
      "source": [
        "##Importing all the libraries"
      ],
      "metadata": {
        "id": "LsSkRNhOjjNA"
      }
    },
    {
      "cell_type": "code",
      "source": [
        "from sklearn.preprocessing import OneHotEncoder\n",
        "from flask import Flask, render_template, request\n",
        "from sklearn.preprocessing import StandardScaler, MinMaxScaler\n",
        "#from scipy.stats import zscore\n",
        "# from sklearn.ensemble import StackingRegressor\n",
        "from sklearn.neural_network import MLPRegressor\n",
        "# from sklearn.svm import SVR\n",
        "import seaborn as sns\n",
        "import warnings\n",
        "import matplotlib.pyplot as plt\n",
        "import numpy as np\n",
        "import pandas as pd\n",
        "from datetime import datetime, timedelta"
      ],
      "metadata": {
        "id": "iAiBXje8jNcY"
      },
      "execution_count": 1,
      "outputs": []
    },
    {
      "cell_type": "code",
      "source": [
        "def posix_time(dt):\n",
        "    return (dt - datetime(1970, 1, 1)) / timedelta(seconds=1)"
      ],
      "metadata": {
        "id": "dq2pIf67jMpn"
      },
      "execution_count": 2,
      "outputs": []
    },
    {
      "cell_type": "markdown",
      "source": [
        "\n",
        "\n",
        "#importing the dataset\n",
        "\n",
        "\n"
      ],
      "metadata": {
        "id": "iCNXod0ZkJ4l"
      }
    },
    {
      "cell_type": "code",
      "source": [
        "data = pd.read_csv('Train.csv')"
      ],
      "metadata": {
        "id": "H7XjquU6j-KQ"
      },
      "execution_count": 5,
      "outputs": []
    },
    {
      "cell_type": "markdown",
      "source": [
        "#taking the required features or columns\n",
        "Collecting the data\n"
      ],
      "metadata": {
        "id": "9PNQWiw1k-BP"
      }
    },
    {
      "cell_type": "code",
      "source": [
        "data = data.sort_values(\n",
        "    by=['date_time'], ascending=True).reset_index(drop=True)\n",
        "last_n_hours = [1, 2, 3, 4, 5, 6]\n",
        "for n in last_n_hours:\n",
        "    data[f'last_{n}_hour_traffic'] = data['traffic_volume'].shift(n)\n",
        "data = data.dropna().reset_index(drop=True)\n",
        "data.loc[data['is_holiday'] != 'None', 'is_holiday'] = 1\n",
        "data.loc[data['is_holiday'] == 'None', 'is_holiday'] = 0\n",
        "data['is_holiday'] = data['is_holiday'].astype(int)\n",
        "\n",
        "data['date_time'] = pd.to_datetime(data['date_time'])\n",
        "data['hour'] = data['date_time'].map(lambda x: int(x.strftime(\"%H\")))\n",
        "data['month_day'] = data['date_time'].map(lambda x: int(x.strftime(\"%d\")))\n",
        "data['weekday'] = data['date_time'].map(lambda x: x.weekday()+1)\n",
        "data['month'] = data['date_time'].map(lambda x: int(x.strftime(\"%m\")))\n",
        "data['year'] = data['date_time'].map(lambda x: int(x.strftime(\"%Y\")))\n",
        "data.to_csv(\"traffic_volume_data.csv\", index=None)"
      ],
      "metadata": {
        "id": "ymQOLB8pj985"
      },
      "execution_count": 6,
      "outputs": []
    },
    {
      "cell_type": "code",
      "source": [
        "sns.set()\n",
        "plt.rcParams['font.sans-serif'] = ['SimHei']\n",
        "plt.rcParams['axes.unicode_minus'] = False\n",
        "warnings.filterwarnings('ignore')\n",
        "data = pd.read_csv(\"traffic_volume_data.csv\")\n",
        "data = data.sample(10000).reset_index(drop=True)\n",
        "label_columns = ['weather_type', 'weather_description']\n",
        "numeric_columns = ['is_holiday', 'temperature',\n",
        "                       'weekday', 'hour', 'month_day', 'year', 'month']"
      ],
      "metadata": {
        "id": "wt42TIeOkiqb"
      },
      "execution_count": 7,
      "outputs": []
    },
    {
      "cell_type": "code",
      "source": [
        "features = numeric_columns+label_columns\n",
        "X = data[features]\n",
        "X.head()"
      ],
      "metadata": {
        "id": "FJbPBfWL38aa"
      },
      "execution_count": null,
      "outputs": []
    },
    {
      "cell_type": "code",
      "source": [
        "X.shape\n"
      ],
      "metadata": {
        "colab": {
          "base_uri": "https://localhost:8080/"
        },
        "id": "fsUSWcueQo4n",
        "outputId": "e81bdac3-0c70-41dd-9fd4-4d9a62176ea1"
      },
      "execution_count": 10,
      "outputs": [
        {
          "output_type": "execute_result",
          "data": {
            "text/plain": [
              "(10000, 9)"
            ]
          },
          "metadata": {},
          "execution_count": 10
        }
      ]
    },
    {
      "cell_type": "code",
      "source": [
        "from functools import reduce\n",
        "def unique(list1):\n",
        "    ans = reduce(lambda re, x: re+[x] if x not in re else re, list1, [])\n",
        "    print(ans)\n",
        "\n",
        "n1 = data['weather_type']\n",
        "n2 = data['weather_description']\n",
        "unique(n1)\n",
        "unique(n2)\n",
        "n1features = ['Rain', 'Clouds', 'Clear', 'Snow', 'Mist',\n",
        "              'Drizzle', 'Haze', 'Thunderstorm', 'Fog', 'Smoke', 'Squall']\n",
        "n2features = ['light rain', 'few clouds', 'Sky is Clear', 'light snow', 'sky is clear', 'mist', 'broken clouds', 'moderate rain', 'drizzle', 'overcast clouds', 'scattered clouds', 'haze', 'proximity thunderstorm', 'light intensity drizzle', 'heavy snow', 'heavy intensity rain', 'fog', 'heavy intensity drizzle', 'shower snow', 'snow', 'thunderstorm with rain',\n",
        "              'thunderstorm with heavy rain', 'thunderstorm with light rain', 'proximity thunderstorm with rain', 'thunderstorm with drizzle', 'smoke', 'thunderstorm', 'proximity shower rain', 'very heavy rain', 'proximity thunderstorm with drizzle', 'light rain and snow', 'light intensity shower rain', 'SQUALLS', 'shower drizzle', 'thunderstorm with light drizzle']\n",
        "\"\"\"#Data Preparation\"\"\"\n",
        "\n",
        "n11 = []\n",
        "n22 = []\n",
        "for i in range(10000):\n",
        "    if(n1[i]) not in n1features:\n",
        "        n11.append(0)\n",
        "    else:\n",
        "        n11.append((n1features.index(n1[i]))+1)\n",
        "    if n2[i] not in n2features:\n",
        "        n22.append(0)\n",
        "    else:\n",
        "        n22.append((n2features.index(n2[i]))+1)\n",
        "# print(n11)\n",
        "# print(n22)\n",
        "data['weather_type'] = n11\n",
        "data['weather_description'] = n22\n"
      ],
      "metadata": {
        "id": "WOWCL-_Tl3wz",
        "colab": {
          "base_uri": "https://localhost:8080/"
        },
        "outputId": "375b2b20-b514-42e1-cb17-3d1904a74cd7"
      },
      "execution_count": 11,
      "outputs": [
        {
          "output_type": "stream",
          "name": "stdout",
          "text": [
            "['Clouds', 'Clear', 'Snow', 'Rain', 'Thunderstorm', 'Mist', 'Drizzle', 'Haze', 'Fog', 'Smoke', 'Squall']\n",
            "['broken clouds', 'overcast clouds', 'sky is clear', 'light snow', 'moderate rain', 'proximity thunderstorm', 'Sky is Clear', 'light rain', 'mist', 'drizzle', 'haze', 'proximity thunderstorm with drizzle', 'scattered clouds', 'heavy intensity rain', 'few clouds', 'light intensity drizzle', 'fog', 'snow', 'heavy snow', 'thunderstorm', 'heavy intensity drizzle', 'proximity thunderstorm with rain', 'thunderstorm with light rain', 'smoke', 'proximity shower rain', 'thunderstorm with heavy rain', 'light rain and snow', 'thunderstorm with rain', 'very heavy rain', 'sleet', 'light intensity shower rain', 'thunderstorm with light drizzle', 'SQUALLS', 'light shower snow']\n"
          ]
        }
      ]
    },
    {
      "cell_type": "markdown",
      "source": [
        "#Data Preparation"
      ],
      "metadata": {
        "id": "jOp4AVpSlPEd"
      }
    },
    {
      "cell_type": "code",
      "source": [
        "features = numeric_columns+label_columns\n",
        "target = ['traffic_volume']\n",
        "X = data[features]\n",
        "y = data[target]"
      ],
      "metadata": {
        "id": "VCa_UE4-kiaX"
      },
      "execution_count": 12,
      "outputs": []
    },
    {
      "cell_type": "code",
      "source": [
        "X.head(6)"
      ],
      "metadata": {
        "colab": {
          "base_uri": "https://localhost:8080/",
          "height": 301
        },
        "id": "39wMw-Ll1inC",
        "outputId": "73fd29fd-78d4-4f4e-f388-39e8133b6fc5"
      },
      "execution_count": 13,
      "outputs": [
        {
          "output_type": "execute_result",
          "data": {
            "text/plain": [
              "   is_holiday  temperature  weekday  hour  month_day  year  month  \\\n",
              "0           0       275.97        7    21         10  2013     11   \n",
              "1           0       273.39        3    21         27  2013      2   \n",
              "2           0       260.41        4    10         12  2013     12   \n",
              "3           0       301.73        5    20         14  2015      8   \n",
              "4           0       259.98        2    20         24  2013     12   \n",
              "5           0       285.93        3     0          4  2016      5   \n",
              "\n",
              "   weather_type  weather_description  \n",
              "0             2                    7  \n",
              "1             2                   10  \n",
              "2             2                    7  \n",
              "3             3                    5  \n",
              "4             4                    4  \n",
              "5             3                    5  "
            ],
            "text/html": [
              "\n",
              "  <div id=\"df-07c74501-1462-441e-8193-cf2908e43b96\">\n",
              "    <div class=\"colab-df-container\">\n",
              "      <div>\n",
              "<style scoped>\n",
              "    .dataframe tbody tr th:only-of-type {\n",
              "        vertical-align: middle;\n",
              "    }\n",
              "\n",
              "    .dataframe tbody tr th {\n",
              "        vertical-align: top;\n",
              "    }\n",
              "\n",
              "    .dataframe thead th {\n",
              "        text-align: right;\n",
              "    }\n",
              "</style>\n",
              "<table border=\"1\" class=\"dataframe\">\n",
              "  <thead>\n",
              "    <tr style=\"text-align: right;\">\n",
              "      <th></th>\n",
              "      <th>is_holiday</th>\n",
              "      <th>temperature</th>\n",
              "      <th>weekday</th>\n",
              "      <th>hour</th>\n",
              "      <th>month_day</th>\n",
              "      <th>year</th>\n",
              "      <th>month</th>\n",
              "      <th>weather_type</th>\n",
              "      <th>weather_description</th>\n",
              "    </tr>\n",
              "  </thead>\n",
              "  <tbody>\n",
              "    <tr>\n",
              "      <th>0</th>\n",
              "      <td>0</td>\n",
              "      <td>275.97</td>\n",
              "      <td>7</td>\n",
              "      <td>21</td>\n",
              "      <td>10</td>\n",
              "      <td>2013</td>\n",
              "      <td>11</td>\n",
              "      <td>2</td>\n",
              "      <td>7</td>\n",
              "    </tr>\n",
              "    <tr>\n",
              "      <th>1</th>\n",
              "      <td>0</td>\n",
              "      <td>273.39</td>\n",
              "      <td>3</td>\n",
              "      <td>21</td>\n",
              "      <td>27</td>\n",
              "      <td>2013</td>\n",
              "      <td>2</td>\n",
              "      <td>2</td>\n",
              "      <td>10</td>\n",
              "    </tr>\n",
              "    <tr>\n",
              "      <th>2</th>\n",
              "      <td>0</td>\n",
              "      <td>260.41</td>\n",
              "      <td>4</td>\n",
              "      <td>10</td>\n",
              "      <td>12</td>\n",
              "      <td>2013</td>\n",
              "      <td>12</td>\n",
              "      <td>2</td>\n",
              "      <td>7</td>\n",
              "    </tr>\n",
              "    <tr>\n",
              "      <th>3</th>\n",
              "      <td>0</td>\n",
              "      <td>301.73</td>\n",
              "      <td>5</td>\n",
              "      <td>20</td>\n",
              "      <td>14</td>\n",
              "      <td>2015</td>\n",
              "      <td>8</td>\n",
              "      <td>3</td>\n",
              "      <td>5</td>\n",
              "    </tr>\n",
              "    <tr>\n",
              "      <th>4</th>\n",
              "      <td>0</td>\n",
              "      <td>259.98</td>\n",
              "      <td>2</td>\n",
              "      <td>20</td>\n",
              "      <td>24</td>\n",
              "      <td>2013</td>\n",
              "      <td>12</td>\n",
              "      <td>4</td>\n",
              "      <td>4</td>\n",
              "    </tr>\n",
              "    <tr>\n",
              "      <th>5</th>\n",
              "      <td>0</td>\n",
              "      <td>285.93</td>\n",
              "      <td>3</td>\n",
              "      <td>0</td>\n",
              "      <td>4</td>\n",
              "      <td>2016</td>\n",
              "      <td>5</td>\n",
              "      <td>3</td>\n",
              "      <td>5</td>\n",
              "    </tr>\n",
              "  </tbody>\n",
              "</table>\n",
              "</div>\n",
              "      <button class=\"colab-df-convert\" onclick=\"convertToInteractive('df-07c74501-1462-441e-8193-cf2908e43b96')\"\n",
              "              title=\"Convert this dataframe to an interactive table.\"\n",
              "              style=\"display:none;\">\n",
              "        \n",
              "  <svg xmlns=\"http://www.w3.org/2000/svg\" height=\"24px\"viewBox=\"0 0 24 24\"\n",
              "       width=\"24px\">\n",
              "    <path d=\"M0 0h24v24H0V0z\" fill=\"none\"/>\n",
              "    <path d=\"M18.56 5.44l.94 2.06.94-2.06 2.06-.94-2.06-.94-.94-2.06-.94 2.06-2.06.94zm-11 1L8.5 8.5l.94-2.06 2.06-.94-2.06-.94L8.5 2.5l-.94 2.06-2.06.94zm10 10l.94 2.06.94-2.06 2.06-.94-2.06-.94-.94-2.06-.94 2.06-2.06.94z\"/><path d=\"M17.41 7.96l-1.37-1.37c-.4-.4-.92-.59-1.43-.59-.52 0-1.04.2-1.43.59L10.3 9.45l-7.72 7.72c-.78.78-.78 2.05 0 2.83L4 21.41c.39.39.9.59 1.41.59.51 0 1.02-.2 1.41-.59l7.78-7.78 2.81-2.81c.8-.78.8-2.07 0-2.86zM5.41 20L4 18.59l7.72-7.72 1.47 1.35L5.41 20z\"/>\n",
              "  </svg>\n",
              "      </button>\n",
              "      \n",
              "  <style>\n",
              "    .colab-df-container {\n",
              "      display:flex;\n",
              "      flex-wrap:wrap;\n",
              "      gap: 12px;\n",
              "    }\n",
              "\n",
              "    .colab-df-convert {\n",
              "      background-color: #E8F0FE;\n",
              "      border: none;\n",
              "      border-radius: 50%;\n",
              "      cursor: pointer;\n",
              "      display: none;\n",
              "      fill: #1967D2;\n",
              "      height: 32px;\n",
              "      padding: 0 0 0 0;\n",
              "      width: 32px;\n",
              "    }\n",
              "\n",
              "    .colab-df-convert:hover {\n",
              "      background-color: #E2EBFA;\n",
              "      box-shadow: 0px 1px 2px rgba(60, 64, 67, 0.3), 0px 1px 3px 1px rgba(60, 64, 67, 0.15);\n",
              "      fill: #174EA6;\n",
              "    }\n",
              "\n",
              "    [theme=dark] .colab-df-convert {\n",
              "      background-color: #3B4455;\n",
              "      fill: #D2E3FC;\n",
              "    }\n",
              "\n",
              "    [theme=dark] .colab-df-convert:hover {\n",
              "      background-color: #434B5C;\n",
              "      box-shadow: 0px 1px 3px 1px rgba(0, 0, 0, 0.15);\n",
              "      filter: drop-shadow(0px 1px 2px rgba(0, 0, 0, 0.3));\n",
              "      fill: #FFFFFF;\n",
              "    }\n",
              "  </style>\n",
              "\n",
              "      <script>\n",
              "        const buttonEl =\n",
              "          document.querySelector('#df-07c74501-1462-441e-8193-cf2908e43b96 button.colab-df-convert');\n",
              "        buttonEl.style.display =\n",
              "          google.colab.kernel.accessAllowed ? 'block' : 'none';\n",
              "\n",
              "        async function convertToInteractive(key) {\n",
              "          const element = document.querySelector('#df-07c74501-1462-441e-8193-cf2908e43b96');\n",
              "          const dataTable =\n",
              "            await google.colab.kernel.invokeFunction('convertToInteractive',\n",
              "                                                     [key], {});\n",
              "          if (!dataTable) return;\n",
              "\n",
              "          const docLinkHtml = 'Like what you see? Visit the ' +\n",
              "            '<a target=\"_blank\" href=https://colab.research.google.com/notebooks/data_table.ipynb>data table notebook</a>'\n",
              "            + ' to learn more about interactive tables.';\n",
              "          element.innerHTML = '';\n",
              "          dataTable['output_type'] = 'display_data';\n",
              "          await google.colab.output.renderOutput(dataTable, element);\n",
              "          const docLink = document.createElement('div');\n",
              "          docLink.innerHTML = docLinkHtml;\n",
              "          element.appendChild(docLink);\n",
              "        }\n",
              "      </script>\n",
              "    </div>\n",
              "  </div>\n",
              "  "
            ]
          },
          "metadata": {},
          "execution_count": 13
        }
      ]
    },
    {
      "cell_type": "code",
      "source": [
        "print(data[features].hist(bins=20,))"
      ],
      "metadata": {
        "colab": {
          "base_uri": "https://localhost:8080/",
          "height": 495
        },
        "id": "fjB2ZRjAmfWP",
        "outputId": "b15d6689-c1b4-44c4-e7b1-965c34a7fd9f"
      },
      "execution_count": 14,
      "outputs": [
        {
          "output_type": "stream",
          "name": "stderr",
          "text": [
            "WARNING:matplotlib.font_manager:findfont: Font family ['sans-serif'] not found. Falling back to DejaVu Sans.\n",
            "WARNING:matplotlib.font_manager:findfont: Font family ['sans-serif'] not found. Falling back to DejaVu Sans.\n"
          ]
        },
        {
          "output_type": "stream",
          "name": "stdout",
          "text": [
            "[[<matplotlib.axes._subplots.AxesSubplot object at 0x7f36ef159cd0>\n",
            "  <matplotlib.axes._subplots.AxesSubplot object at 0x7f36eefad160>\n",
            "  <matplotlib.axes._subplots.AxesSubplot object at 0x7f36eef54580>]\n",
            " [<matplotlib.axes._subplots.AxesSubplot object at 0x7f36eef7b970>\n",
            "  <matplotlib.axes._subplots.AxesSubplot object at 0x7f36eef22d60>\n",
            "  <matplotlib.axes._subplots.AxesSubplot object at 0x7f36eeed30d0>]\n",
            " [<matplotlib.axes._subplots.AxesSubplot object at 0x7f36eeed31c0>\n",
            "  <matplotlib.axes._subplots.AxesSubplot object at 0x7f36eeefa610>\n",
            "  <matplotlib.axes._subplots.AxesSubplot object at 0x7f36eee08d90>]]\n"
          ]
        },
        {
          "output_type": "display_data",
          "data": {
            "text/plain": [
              "<Figure size 432x288 with 9 Axes>"
            ],
            "image/png": "[encoded data removed]"
          },
          "metadata": {}
        }
      ]
    },
    {
      "cell_type": "code",
      "source": [
        "# data['traffic_volume'].hist(bins=20)"
      ],
      "metadata": {
        "id": "fmbQJbngl1Cm"
      },
      "execution_count": 14,
      "outputs": []
    },
    {
      "cell_type": "markdown",
      "source": [
        "#Feature Scaling"
      ],
      "metadata": {
        "id": "jlMn2VaklmDm"
      }
    },
    {
      "cell_type": "code",
      "source": [
        "x_scaler = MinMaxScaler()\n",
        "X = x_scaler.fit_transform(X)\n",
        "y_scaler = MinMaxScaler()\n",
        "y = y_scaler.fit_transform(y).flatten()\n",
        "warnings.filterwarnings('ignore')"
      ],
      "metadata": {
        "id": "uF1n7zfzlqoC"
      },
      "execution_count": 15,
      "outputs": []
    },
    {
      "cell_type": "code",
      "source": [
        "print(X[:5])"
      ],
      "metadata": {
        "id": "kYXMZO-elrd9",
        "colab": {
          "base_uri": "https://localhost:8080/"
        },
        "outputId": "cc6df361-12e8-46b0-e631-68c6608de300"
      },
      "execution_count": 16,
      "outputs": [
        {
          "output_type": "stream",
          "name": "stdout",
          "text": [
            "[[0.         0.91614119 0.5        0.34782609 0.1        0.\n",
            "  0.81818182 0.2        0.11764706]\n",
            " [0.         0.91367094 0.83333333 0.65217391 0.5        0.5\n",
            "  0.90909091 0.4        0.14705882]\n",
            " [0.         0.8352402  0.33333333 0.04347826 0.83333333 0.\n",
            "  1.         0.2        0.11764706]\n",
            " [0.         0.83338751 0.16666667 0.39130435 0.1        1.\n",
            "  0.09090909 0.1        0.29411765]\n",
            " [0.         0.88513294 0.         0.30434783 0.13333333 0.\n",
            "  0.90909091 0.2        0.11764706]]\n"
          ]
        }
      ]
    },
    {
      "cell_type": "markdown",
      "source": [
        "#Visualization"
      ],
      "metadata": {
        "id": "4It7y43LoIlS"
      }
    },
    {
      "cell_type": "code",
      "source": [
        "metrics = ['month', 'month_day', 'weekday', 'hour']\n",
        "fig = plt.figure(figsize=(8, 4*len(metrics)))\n",
        "for i, metric in enumerate(metrics):\n",
        "\tax = fig.add_subplot(len(metrics), 1, i+1)\n",
        "\tax.plot(data.groupby(metric)['traffic_volume'].mean(), '-o')\n",
        "\tax.set_xlabel(metric)\n",
        "\tax.set_ylabel(\"Mean Traffic\")\n",
        "\tax.set_title(f\"Traffic Trend by {metric}\")\n",
        "plt.tight_layout()\n",
        "plt.show()"
      ],
      "metadata": {
        "colab": {
          "base_uri": "https://localhost:8080/",
          "height": 1000
        },
        "id": "arNDfHuumYaH",
        "outputId": "68d24a32-42c9-4339-b817-f80dbd2e2df8"
      },
      "execution_count": 16,
      "outputs": [
        {
          "output_type": "display_data",
          "data": {
            "text/plain": [
              "<Figure size 576x1152 with 4 Axes>"
            ],
            "image/png": "[encoded data removed]"
          },
          "metadata": {}
        }
      ]
    },
    {
      "cell_type": "code",
      "source": [],
      "metadata": {
        "id": "8IOlp3ZqjE3n"
      },
      "execution_count": null,
      "outputs": []
    },
    {
      "cell_type": "markdown",
      "source": [
        "#Train the Model"
      ],
      "metadata": {
        "id": "qcpADogml9lD"
      }
    },
    {
      "cell_type": "code",
      "source": [
        "regr = MLPRegressor(random_state=1, max_iter=500).fit(X, y)\n",
        "new = []\n",
        "print('predicted output :=',regr.predict(X[:10]))\n",
        "print('Actual output :=',y[:10])"
      ],
      "metadata": {
        "colab": {
          "base_uri": "https://localhost:8080/"
        },
        "id": "w_JxqtgkmA-Q",
        "outputId": "439f6fc3-7d95-4dbd-a0e3-df172a07f472"
      },
      "execution_count": 18,
      "outputs": [
        {
          "output_type": "stream",
          "name": "stdout",
          "text": [
            "predicted output := [ 0.78744508  0.68734077 -0.02051401  0.61431292  0.65525804  0.03894602\n",
            "  0.50216795  0.12085173  0.77370919  0.59896102]\n",
            "Actual output := [0.82955832 0.62698188 0.02265006 0.70696489 0.95583239 0.02533975\n",
            " 0.5644111  0.0369479  0.82516988 0.94082673]\n"
          ]
        }
      ]
    },
    {
      "cell_type": "code",
      "source": [
        "# error eval\n",
        "from sklearn.model_selection import train_test_split\n",
        "from sklearn.metrics import mean_absolute_error\n",
        "trainX, testX, trainY, testY = train_test_split(X, y, test_size=0.2)\n",
        "y_pred = regr.predict(testX)\n",
        "print('Mean Absolute Error:', mean_absolute_error(testY, y_pred))\n",
        "##############################"
      ],
      "metadata": {
        "colab": {
          "base_uri": "https://localhost:8080/"
        },
        "id": "c5-VBpbNRIxI",
        "outputId": "e1b92146-97ab-4506-f240-72af61d1e20e"
      },
      "execution_count": 20,
      "outputs": [
        {
          "output_type": "stream",
          "name": "stdout",
          "text": [
            "Mean Absolute Error: 0.07604976561073083\n"
          ]
        }
      ]
    },
    {
      "cell_type": "code",
      "source": [
        "print(features)"
      ],
      "metadata": {
        "colab": {
          "base_uri": "https://localhost:8080/"
        },
        "id": "YguC21Lcoeup",
        "outputId": "1e1cb121-2e49-4f02-bd4a-ade13a7676b1"
      },
      "execution_count": null,
      "outputs": [
        {
          "output_type": "stream",
          "name": "stdout",
          "text": [
            "['is_holiday', 'humidity', 'wind_speed', 'temperature', 'weekday', 'hour', 'month_day', 'year', 'month']\n"
          ]
        }
      ]
    },
    {
      "cell_type": "code",
      "source": [
        "data[features].head(5)"
      ],
      "metadata": {
        "colab": {
          "base_uri": "https://localhost:8080/",
          "height": 206
        },
        "id": "8_rgNNZ5oigr",
        "outputId": "b4ee7cfb-ccd3-4c8c-d91b-0e622d006884"
      },
      "execution_count": null,
      "outputs": [
        {
          "output_type": "execute_result",
          "data": {
            "text/plain": [
              "   is_holiday  humidity  wind_speed  temperature  weekday  hour  month_day  \\\n",
              "0           0        64           0       305.52        5    19         19   \n",
              "1           0        69           3       295.62        2    16         25   \n",
              "2           0        73           6       273.15        3     2         30   \n",
              "3           0        63           4       295.12        3    18          8   \n",
              "4           0        48           4       282.24        2     2         19   \n",
              "\n",
              "   year  month  \n",
              "0  2013      7  \n",
              "1  2015      8  \n",
              "2  2013      1  \n",
              "3  2015      7  \n",
              "4  2016      4  "
            ],
            "text/html": [
              "\n",
              "  <div id=\"df-86af3585-3060-4fd1-b41e-47eb53817f30\">\n",
              "    <div class=\"colab-df-container\">\n",
              "      <div>\n",
              "<style scoped>\n",
              "    .dataframe tbody tr th:only-of-type {\n",
              "        vertical-align: middle;\n",
              "    }\n",
              "\n",
              "    .dataframe tbody tr th {\n",
              "        vertical-align: top;\n",
              "    }\n",
              "\n",
              "    .dataframe thead th {\n",
              "        text-align: right;\n",
              "    }\n",
              "</style>\n",
              "<table border=\"1\" class=\"dataframe\">\n",
              "  <thead>\n",
              "    <tr style=\"text-align: right;\">\n",
              "      <th></th>\n",
              "      <th>is_holiday</th>\n",
              "      <th>humidity</th>\n",
              "      <th>wind_speed</th>\n",
              "      <th>temperature</th>\n",
              "      <th>weekday</th>\n",
              "      <th>hour</th>\n",
              "      <th>month_day</th>\n",
              "      <th>year</th>\n",
              "      <th>month</th>\n",
              "    </tr>\n",
              "  </thead>\n",
              "  <tbody>\n",
              "    <tr>\n",
              "      <th>0</th>\n",
              "      <td>0</td>\n",
              "      <td>64</td>\n",
              "      <td>0</td>\n",
              "      <td>305.52</td>\n",
              "      <td>5</td>\n",
              "      <td>19</td>\n",
              "      <td>19</td>\n",
              "      <td>2013</td>\n",
              "      <td>7</td>\n",
              "    </tr>\n",
              "    <tr>\n",
              "      <th>1</th>\n",
              "      <td>0</td>\n",
              "      <td>69</td>\n",
              "      <td>3</td>\n",
              "      <td>295.62</td>\n",
              "      <td>2</td>\n",
              "      <td>16</td>\n",
              "      <td>25</td>\n",
              "      <td>2015</td>\n",
              "      <td>8</td>\n",
              "    </tr>\n",
              "    <tr>\n",
              "      <th>2</th>\n",
              "      <td>0</td>\n",
              "      <td>73</td>\n",
              "      <td>6</td>\n",
              "      <td>273.15</td>\n",
              "      <td>3</td>\n",
              "      <td>2</td>\n",
              "      <td>30</td>\n",
              "      <td>2013</td>\n",
              "      <td>1</td>\n",
              "    </tr>\n",
              "    <tr>\n",
              "      <th>3</th>\n",
              "      <td>0</td>\n",
              "      <td>63</td>\n",
              "      <td>4</td>\n",
              "      <td>295.12</td>\n",
              "      <td>3</td>\n",
              "      <td>18</td>\n",
              "      <td>8</td>\n",
              "      <td>2015</td>\n",
              "      <td>7</td>\n",
              "    </tr>\n",
              "    <tr>\n",
              "      <th>4</th>\n",
              "      <td>0</td>\n",
              "      <td>48</td>\n",
              "      <td>4</td>\n",
              "      <td>282.24</td>\n",
              "      <td>2</td>\n",
              "      <td>2</td>\n",
              "      <td>19</td>\n",
              "      <td>2016</td>\n",
              "      <td>4</td>\n",
              "    </tr>\n",
              "  </tbody>\n",
              "</table>\n",
              "</div>\n",
              "      <button class=\"colab-df-convert\" onclick=\"convertToInteractive('df-86af3585-3060-4fd1-b41e-47eb53817f30')\"\n",
              "              title=\"Convert this dataframe to an interactive table.\"\n",
              "              style=\"display:none;\">\n",
              "        \n",
              "  <svg xmlns=\"http://www.w3.org/2000/svg\" height=\"24px\"viewBox=\"0 0 24 24\"\n",
              "       width=\"24px\">\n",
              "    <path d=\"M0 0h24v24H0V0z\" fill=\"none\"/>\n",
              "    <path d=\"M18.56 5.44l.94 2.06.94-2.06 2.06-.94-2.06-.94-.94-2.06-.94 2.06-2.06.94zm-11 1L8.5 8.5l.94-2.06 2.06-.94-2.06-.94L8.5 2.5l-.94 2.06-2.06.94zm10 10l.94 2.06.94-2.06 2.06-.94-2.06-.94-.94-2.06-.94 2.06-2.06.94z\"/><path d=\"M17.41 7.96l-1.37-1.37c-.4-.4-.92-.59-1.43-.59-.52 0-1.04.2-1.43.59L10.3 9.45l-7.72 7.72c-.78.78-.78 2.05 0 2.83L4 21.41c.39.39.9.59 1.41.59.51 0 1.02-.2 1.41-.59l7.78-7.78 2.81-2.81c.8-.78.8-2.07 0-2.86zM5.41 20L4 18.59l7.72-7.72 1.47 1.35L5.41 20z\"/>\n",
              "  </svg>\n",
              "      </button>\n",
              "      \n",
              "  <style>\n",
              "    .colab-df-container {\n",
              "      display:flex;\n",
              "      flex-wrap:wrap;\n",
              "      gap: 12px;\n",
              "    }\n",
              "\n",
              "    .colab-df-convert {\n",
              "      background-color: #E8F0FE;\n",
              "      border: none;\n",
              "      border-radius: 50%;\n",
              "      cursor: pointer;\n",
              "      display: none;\n",
              "      fill: #1967D2;\n",
              "      height: 32px;\n",
              "      padding: 0 0 0 0;\n",
              "      width: 32px;\n",
              "    }\n",
              "\n",
              "    .colab-df-convert:hover {\n",
              "      background-color: #E2EBFA;\n",
              "      box-shadow: 0px 1px 2px rgba(60, 64, 67, 0.3), 0px 1px 3px 1px rgba(60, 64, 67, 0.15);\n",
              "      fill: #174EA6;\n",
              "    }\n",
              "\n",
              "    [theme=dark] .colab-df-convert {\n",
              "      background-color: #3B4455;\n",
              "      fill: #D2E3FC;\n",
              "    }\n",
              "\n",
              "    [theme=dark] .colab-df-convert:hover {\n",
              "      background-color: #434B5C;\n",
              "      box-shadow: 0px 1px 3px 1px rgba(0, 0, 0, 0.15);\n",
              "      filter: drop-shadow(0px 1px 2px rgba(0, 0, 0, 0.3));\n",
              "      fill: #FFFFFF;\n",
              "    }\n",
              "  </style>\n",
              "\n",
              "      <script>\n",
              "        const buttonEl =\n",
              "          document.querySelector('#df-86af3585-3060-4fd1-b41e-47eb53817f30 button.colab-df-convert');\n",
              "        buttonEl.style.display =\n",
              "          google.colab.kernel.accessAllowed ? 'block' : 'none';\n",
              "\n",
              "        async function convertToInteractive(key) {\n",
              "          const element = document.querySelector('#df-86af3585-3060-4fd1-b41e-47eb53817f30');\n",
              "          const dataTable =\n",
              "            await google.colab.kernel.invokeFunction('convertToInteractive',\n",
              "                                                     [key], {});\n",
              "          if (!dataTable) return;\n",
              "\n",
              "          const docLinkHtml = 'Like what you see? Visit the ' +\n",
              "            '<a target=\"_blank\" href=https://colab.research.google.com/notebooks/data_table.ipynb>data table notebook</a>'\n",
              "            + ' to learn more about interactive tables.';\n",
              "          element.innerHTML = '';\n",
              "          dataTable['output_type'] = 'display_data';\n",
              "          await google.colab.output.renderOutput(dataTable, element);\n",
              "          const docLink = document.createElement('div');\n",
              "          docLink.innerHTML = docLinkHtml;\n",
              "          element.appendChild(docLink);\n",
              "        }\n",
              "      </script>\n",
              "    </div>\n",
              "  </div>\n",
              "  "
            ]
          },
          "metadata": {},
          "execution_count": 21
        }
      ]
    },
    {
      "cell_type": "markdown",
      "source": [
        "#User input"
      ],
      "metadata": {
        "id": "vLx7CxtioYn3"
      }
    },
    {
      "cell_type": "code",
      "source": [
        "ip=[0,89,2,288.28,1,9,2,2012,10]\n",
        "ip = x_scaler.transform([ip])\n",
        "out=regr.predict(ip)\n",
        "print('Before inverse Scaling :',out)"
      ],
      "metadata": {
        "colab": {
          "base_uri": "https://localhost:8080/"
        },
        "id": "uvI4vBoloYSz",
        "outputId": "938281d8-5ab0-4519-94eb-174fd61dc953"
      },
      "execution_count": 21,
      "outputs": [
        {
          "output_type": "stream",
          "name": "stdout",
          "text": [
            "Before inverse Scaling : [171.03955055]\n"
          ]
        }
      ]
    },
    {
      "cell_type": "code",
      "source": [
        "y_pred = y_scaler.inverse_transform([out])\n",
        "print('Traffic Volume : ',y_pred)"
      ],
      "metadata": {
        "colab": {
          "base_uri": "https://localhost:8080/"
        },
        "id": "7dNibTZroYIt",
        "outputId": "c6817f46-4b5c-40e2-963b-73129400f0d5"
      },
      "execution_count": 22,
      "outputs": [
        {
          "output_type": "stream",
          "name": "stdout",
          "text": [
            "Traffic Volume :  [[1208348.38509743]]\n"
          ]
        }
      ]
    },
    {
      "cell_type": "code",
      "source": [
        "if(y_pred<=1000):\n",
        "  print(\"No Traffic \")\n",
        "elif y_pred>1000 and y_pred<=3000:\n",
        "  print(\"Busy or Normal Traffic\")\n",
        "elif y_pred>3000 and y_pred<=5500:\n",
        "  print(\"heavy Traffic\")\n",
        "else:\n",
        "  print(\"Worst case\")"
      ],
      "metadata": {
        "colab": {
          "base_uri": "https://localhost:8080/"
        },
        "id": "LO-UAQfkpXhL",
        "outputId": "a97e83f9-de01-49bf-f69c-0481ac8f4a1b"
      },
      "execution_count": 23,
      "outputs": [
        {
          "output_type": "stream",
          "name": "stdout",
          "text": [
            "Worst case\n"
          ]
        }
      ]
    },
    {
      "cell_type": "markdown",
      "source": [
        "#Evaluating Metrics "
      ],
      "metadata": {
        "id": "UfaHUYVfrpm2"
      }
    },
    {
      "cell_type": "code",
      "source": [
        "# def relative_absolute_error(true, pred):\n",
        "#     true_mean = np.mean(true)\n",
        "#     squared_error_num = np.sum(np.abs(true - pred))\n",
        "#     squared_error_den = np.sum(np.abs(true - true_mean))\n",
        "#     rae_loss = squared_error_num / squared_error_den\n",
        "#     return rae_loss\n",
        "# def mean_bias_error(true, pred):\n",
        "#     bias_error = true - pred\n",
        "#     mbe_loss = np.mean(np.sum(diff) / true.size)\n",
        "#     return mbe_loss\n",
        "# def mean_absolute_percentage_error(true, pred):\n",
        "#     abs_error = (np.abs(true - pred)) / true\n",
        "#     sum_abs_error = np.sum(abs_error)\n",
        "#     mape_loss = (sum_abs_error / true.size) * 100\n",
        "#     return mape_loss\n",
        "# def mean_squared_error(true, pred):\n",
        "#     squared_error = np.square(true - pred) \n",
        "#     sum_squared_error = np.sum(squared_error)\n",
        "#     mse_loss = sum_squared_error / true.size\n",
        "#     return mse_loss\n",
        "# def root_mean_squared_error(true, pred):\n",
        "#     squared_error = np.square(true - pred) \n",
        "#     sum_squared_error = np.sum(squared_error)\n",
        "#     rmse_loss = np.sqrt(sum_squared_error / true.size)\n",
        "#     return rmse_loss"
      ],
      "metadata": {
        "id": "HQA61u4Irorp"
      },
      "execution_count": null,
      "outputs": []
    }
  ]
}